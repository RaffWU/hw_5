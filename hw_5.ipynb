{
 "cells": [
  {
   "cell_type": "code",
   "execution_count": 2,
   "metadata": {},
   "outputs": [
    {
     "name": "stdout",
     "output_type": "stream",
     "text": [
      "Requirement already satisfied: opencc-python-reimplemented in c:\\users\\m\\anaconda3\\lib\\site-packages (0.1.6)\n",
      "Note: you may need to restart the kernel to use updated packages.\n"
     ]
    }
   ],
   "source": [
    "pip install opencc-python-reimplemented"
   ]
  },
  {
   "cell_type": "code",
   "execution_count": 26,
   "metadata": {},
   "outputs": [
    {
     "name": "stdout",
     "output_type": "stream",
     "text": [
      "{'english': 'Free delivery for addresses in the city. Can be delivered through Internet.', 'chinese': '免費市內取送、免費提供打印譯稿及電子文檔各一份。'}\n"
     ]
    }
   ],
   "source": [
    "import json\n",
    "from opencc import OpenCC\n",
    "cc= OpenCC('s2t')\n",
    "D= []\n",
    "file = open('translation2019zh_train.json' ,'r',encoding=\"utf-8\")\n",
    "for f in file:\n",
    "    f=cc.convert(f)\n",
    "    D.append(json.loads(f))\n",
    "    \n",
    "\n",
    "\n",
    "print(D[10])"
   ]
  },
  {
   "cell_type": "code",
   "execution_count": 37,
   "metadata": {},
   "outputs": [
    {
     "name": "stdout",
     "output_type": "stream",
     "text": [
      "He calls the Green Book, his book of teachings, “the new gospel.\n",
      "他還把宣揚自己思想的所謂《綠皮書》稱作“新福音書”。\n",
      "5161434\n"
     ]
    }
   ],
   "source": [
    "print(D[1]['english'])\n",
    "print(D[1]['chinese'])\n",
    "print(len(D))"
   ]
  },
  {
   "cell_type": "code",
   "execution_count": 41,
   "metadata": {
    "scrolled": true
   },
   "outputs": [
    {
     "name": "stdout",
     "output_type": "stream",
     "text": [
      "微風推着我去愛撫它的長耳朵\n",
      "And the light breeze moves me to caress her long ear\n"
     ]
    }
   ],
   "source": [
    "ch_data= []\n",
    "en_data= []\n",
    "i=0\n",
    "for d in D:\n",
    "    ch_data.append(d['chinese'])\n",
    "    en_data.append(d['english'])\n",
    "\n",
    "print(ch_data[2])\n",
    "print(en_data[2])"
   ]
  },
  {
   "cell_type": "code",
   "execution_count": null,
   "metadata": {},
   "outputs": [],
   "source": []
  }
 ],
 "metadata": {
  "kernelspec": {
   "display_name": "Python 3",
   "language": "python",
   "name": "python3"
  },
  "language_info": {
   "codemirror_mode": {
    "name": "ipython",
    "version": 3
   },
   "file_extension": ".py",
   "mimetype": "text/x-python",
   "name": "python",
   "nbconvert_exporter": "python",
   "pygments_lexer": "ipython3",
   "version": "3.7.6"
  }
 },
 "nbformat": 4,
 "nbformat_minor": 4
}
